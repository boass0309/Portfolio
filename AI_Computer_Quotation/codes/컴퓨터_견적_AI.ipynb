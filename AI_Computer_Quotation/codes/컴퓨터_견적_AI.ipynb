{
  "nbformat": 4,
  "nbformat_minor": 0,
  "metadata": {
    "colab": {
      "provenance": []
    },
    "kernelspec": {
      "name": "python3",
      "display_name": "Python 3"
    },
    "language_info": {
      "name": "python"
    }
  },
  "cells": [
    {
      "cell_type": "code",
      "execution_count": null,
      "metadata": {
        "colab": {
          "base_uri": "https://localhost:8080/"
        },
        "id": "_4p-OAlLH5X6",
        "outputId": "3f92989d-9884-4390-8b9d-653520fa5c60"
      },
      "outputs": [
        {
          "output_type": "stream",
          "name": "stdout",
          "text": [
            "Drive already mounted at /content/drive; to attempt to forcibly remount, call drive.mount(\"/content/drive\", force_remount=True).\n"
          ]
        }
      ],
      "source": [
        "from google.colab import drive\n",
        "drive.mount('/content/drive')"
      ]
    },
    {
      "cell_type": "code",
      "source": [
        "import pandas as pd\n",
        "import re\n",
        "\n",
        "# CSV 파일 로드\n",
        "file_path = '/content/drive/MyDrive/computer_parts.csv'\n",
        "computer_parts = pd.read_csv(file_path)\n",
        "# 데이터 정제 함수 정의\n",
        "def clean_text(text):\n",
        "    # 정규 표현식을 사용하여 문자열에서 알파벳과 숫자만 남기고 나머지 제거\n",
        "    cleaned_text = re.sub(r'[^a-zA-Z0-9\\s]', '', text)\n",
        "    return cleaned_text.strip()\n",
        "\n",
        "# 데이터셋의 각 열에 대해 정제 적용\n",
        "computer_parts['name'] = computer_parts['name'].apply(clean_text)\n",
        "computer_parts['brand'] = computer_parts['brand'].apply(clean_text)\n",
        "computer_parts['category'] = computer_parts['category'].apply(clean_text)\n",
        "computer_parts['price'] = computer_parts['price'].apply(clean_text)\n",
        "# 데이터 확인\n",
        "print(computer_parts)"
      ],
      "metadata": {
        "colab": {
          "base_uri": "https://localhost:8080/"
        },
        "id": "hyRkCEnTID0Y",
        "outputId": "0f0141b2-e6e6-4d02-a5e4-c14a846feca3"
      },
      "execution_count": null,
      "outputs": [
        {
          "output_type": "stream",
          "name": "stdout",
          "text": [
            "                         name   price     brand category\n",
            "0        Intel Core i712700KF  284953     INTEL      CPU\n",
            "1           AMD Ryzen 7 5800X  246712       AMD      CPU\n",
            "2            AMD Ryzen 5 5500  115363       AMD      CPU\n",
            "3           AMD Ryzen 9 5900X  346131       AMD      CPU\n",
            "4           AMD Ryzen 7 5700X  223734       AMD      CPU\n",
            "..                        ...     ...       ...      ...\n",
            "217                      M170   16700  Logitech    Mouse\n",
            "218  G304 LIGHTSPEED WIRELESS   31250  Logitech    Mouse\n",
            "219                  SMM1300Q   39900   Samsung    Mouse\n",
            "220                SPAJMALPUB    9000   Samsung    Mouse\n",
            "221                 SMB1500QG   19800   Samsung    Mouse\n",
            "\n",
            "[222 rows x 4 columns]\n"
          ]
        }
      ]
    },
    {
      "cell_type": "code",
      "source": [
        "computer_parts['price'] = pd.to_numeric(computer_parts['price'], errors='coerce')\n",
        "computer_parts.dropna(subset=['price'], inplace=True)"
      ],
      "metadata": {
        "id": "_cTXVsvWIbhm"
      },
      "execution_count": null,
      "outputs": []
    },
    {
      "cell_type": "code",
      "source": [
        "# 필요한 컬럼만 선택\n",
        "features = ['name', 'category', 'brand', 'price']\n",
        "computer_parts = computer_parts[features]\n",
        "\n",
        "# NaN 값 처리\n",
        "computer_parts.fillna('', inplace=True)\n",
        "\n",
        "# 데이터프레임 기본 정보 확인\n",
        "print(computer_parts.info())"
      ],
      "metadata": {
        "colab": {
          "base_uri": "https://localhost:8080/"
        },
        "id": "tNZMi1gGekBL",
        "outputId": "186b568b-b6eb-4260-f4c6-d56457d08f16"
      },
      "execution_count": null,
      "outputs": [
        {
          "output_type": "stream",
          "name": "stdout",
          "text": [
            "<class 'pandas.core.frame.DataFrame'>\n",
            "RangeIndex: 222 entries, 0 to 221\n",
            "Data columns (total 4 columns):\n",
            " #   Column    Non-Null Count  Dtype \n",
            "---  ------    --------------  ----- \n",
            " 0   name      222 non-null    object\n",
            " 1   category  222 non-null    object\n",
            " 2   brand     222 non-null    object\n",
            " 3   price     222 non-null    int64 \n",
            "dtypes: int64(1), object(3)\n",
            "memory usage: 7.1+ KB\n",
            "None\n"
          ]
        }
      ]
    },
    {
      "cell_type": "code",
      "source": [
        "from sklearn.feature_extraction.text import TfidfVectorizer\n",
        "from sklearn.metrics.pairwise import cosine_similarity\n",
        "\n",
        "def combine_features(row):\n",
        "    return row['name'] + ' ' + row['category'] + ' ' + row['brand']\n",
        "\n",
        "computer_parts['combined_features'] = computer_parts.apply(combine_features, axis=1)\n",
        "\n",
        "# TF-IDF 벡터화\n",
        "tfidf_vectorizer = TfidfVectorizer()\n",
        "tfidf_matrix = tfidf_vectorizer.fit_transform(computer_parts['combined_features'])\n",
        "print(tfidf_matrix)\n",
        "\n",
        "# 코사인 유사도 계산\n",
        "cosine_sim = cosine_similarity(tfidf_matrix, tfidf_matrix)\n",
        "print(cosine_sim)\n",
        "\n",
        "# 예산 분배 비율 설정\n",
        "budget_distribution = {\n",
        "    '게임용': {'CPU': 0.2, 'GPU': 0.3, 'RAM': 0.15, 'PC CASE': 0.05, 'MOTHERBOARD': 0.1, 'GRAPHIC CARD': 0.2},\n",
        "    '가정용': {'CPU': 0.25, 'RAM': 0.2, 'PC CASE': 0.1, 'MOTHERBOARD': 0.15, 'PSU': 0.15, 'CABLE': 0.05, '방열판': 0.05, 'SSD': 0.05},\n",
        "    '디자인용': {'CPU': 0.2, 'GPU': 0.2, 'RAM': 0.2, 'PC CASE': 0.05, 'MOTHERBOARD': 0.1, 'GRAPHIC CARD': 0.15, 'PSU': 0.05, 'CABLE': 0.025, '방열판': 0.025},\n",
        "    '연구용': {'CPU': 0.3, 'RAM': 0.25, 'MOTHERBOARD': 0.15, 'PSU': 0.15, 'SSD': 0.1, 'KEYBOARD': 0.025, 'MONITOR': 0.025}\n",
        "}"
      ],
      "metadata": {
        "colab": {
          "base_uri": "https://localhost:8080/"
        },
        "id": "CHN45GYHa97q",
        "outputId": "0e9cb21f-d023-4e94-9d41-e9b5b39cd621"
      },
      "execution_count": null,
      "outputs": [
        {
          "output_type": "stream",
          "name": "stdout",
          "text": [
            "  (0, 150)\t0.27814830845644645\n",
            "  (0, 211)\t0.48573259860177986\n",
            "  (0, 147)\t0.3852096971328584\n",
            "  (0, 218)\t0.7336967019097137\n",
            "  (1, 63)\t0.5995038974915855\n",
            "  (1, 319)\t0.363302917571964\n",
            "  (1, 97)\t0.6378752649075504\n",
            "  (1, 150)\t0.3189376324537752\n",
            "  (2, 57)\t0.5995038974915855\n",
            "  (2, 319)\t0.363302917571964\n",
            "  (2, 97)\t0.6378752649075504\n",
            "  (2, 150)\t0.3189376324537752\n",
            "  (3, 64)\t0.5995038974915855\n",
            "  (3, 319)\t0.363302917571964\n",
            "  (3, 97)\t0.6378752649075504\n",
            "  (3, 150)\t0.3189376324537752\n",
            "  (4, 60)\t0.5995038974915855\n",
            "  (4, 319)\t0.363302917571964\n",
            "  (4, 97)\t0.6378752649075504\n",
            "  (4, 150)\t0.3189376324537752\n",
            "  (5, 59)\t0.5995038974915855\n",
            "  (5, 319)\t0.363302917571964\n",
            "  (5, 97)\t0.6378752649075504\n",
            "  (5, 150)\t0.3189376324537752\n",
            "  (6, 80)\t0.5995038974915855\n",
            "  :\t:\n",
            "  (214, 127)\t0.5562330112151859\n",
            "  (214, 355)\t0.5017423825852572\n",
            "  (215, 128)\t0.6624646547191454\n",
            "  (215, 127)\t0.5562330112151859\n",
            "  (215, 355)\t0.5017423825852572\n",
            "  (216, 270)\t0.5481623777954931\n",
            "  (216, 242)\t0.7020913749598405\n",
            "  (216, 237)\t0.4545170060367284\n",
            "  (217, 240)\t0.7020913749598405\n",
            "  (217, 270)\t0.5481623777954931\n",
            "  (217, 237)\t0.4545170060367284\n",
            "  (218, 185)\t0.522430476604755\n",
            "  (218, 270)\t0.40789097046645234\n",
            "  (218, 235)\t0.4590563685419602\n",
            "  (218, 393)\t0.48535899987136977\n",
            "  (218, 237)\t0.3382088778719388\n",
            "  (219, 346)\t0.7167794364411458\n",
            "  (219, 270)\t0.5596301767087888\n",
            "  (219, 328)\t0.41598233713945487\n",
            "  (220, 351)\t0.7167794364411458\n",
            "  (220, 270)\t0.5596301767087888\n",
            "  (220, 328)\t0.41598233713945487\n",
            "  (221, 345)\t0.7167794364411458\n",
            "  (221, 270)\t0.5596301767087888\n",
            "  (221, 328)\t0.41598233713945487\n",
            "[[1.         0.08871196 0.08871196 ... 0.         0.         0.        ]\n",
            " [0.08871196 1.         0.64059508 ... 0.         0.         0.        ]\n",
            " [0.08871196 0.64059508 1.         ... 0.         0.         0.        ]\n",
            " ...\n",
            " [0.         0.         0.         ... 1.         0.48622724 0.48622724]\n",
            " [0.         0.         0.         ... 0.48622724 1.         0.48622724]\n",
            " [0.         0.         0.         ... 0.48622724 0.48622724 1.        ]]\n"
          ]
        }
      ]
    },
    {
      "cell_type": "code",
      "source": [
        "# 추천 함수 정의\n",
        "def recommend_computer_parts(usage, budget, preferred_brand='', cosine_sim=cosine_sim, data=computer_parts):\n",
        "    # 용도에 맞는 예산 분배 비율 가져오기\n",
        "    if usage in budget_distribution:\n",
        "        parts_distribution = budget_distribution[usage]\n",
        "    else:\n",
        "        print(f\"Usage '{usage}' is not defined in budget distribution.\")\n",
        "        return pd.DataFrame()\n",
        "\n",
        "    selected_parts = []\n",
        "\n",
        "    # 각 파트별로 예산 계산하고 추천 부품 선택\n",
        "    for part, ratio in parts_distribution.items():\n",
        "        category_budget = budget * ratio\n",
        "\n",
        "        # 카테고리에 해당하는 부품 필터링\n",
        "        filtered_parts = data[data['category'] == part]\n",
        "\n",
        "        # 예산 내에 맞는 부품만 선택\n",
        "        affordable_parts = filtered_parts[filtered_parts['price'] <= category_budget]\n",
        "\n",
        "        if not affordable_parts.empty:\n",
        "            if preferred_brand:\n",
        "                # 선호 브랜드 필터링\n",
        "                preferred_parts = affordable_parts[affordable_parts['brand'] == preferred_brand]\n",
        "                if not preferred_parts.empty:\n",
        "                    selected_part = preferred_parts.sort_values(by='price').iloc[0]\n",
        "                else:\n",
        "                    selected_part = affordable_parts.sort_values(by='price').iloc[0]\n",
        "            else:\n",
        "                selected_part = affordable_parts.sort_values(by='price').iloc[0]\n",
        "        else:\n",
        "            print(f\"No parts within budget for category '{part}'.\")\n",
        "            selected_part = pd.Series({'name': 'Not Found', 'category': part, 'brand': '', 'price': float('inf')})\n",
        "\n",
        "        selected_parts.append(selected_part)\n",
        "\n",
        "    return selected_parts"
      ],
      "metadata": {
        "id": "Uf-m2xzHi864"
      },
      "execution_count": null,
      "outputs": []
    },
    {
      "cell_type": "code",
      "source": [
        "def get_user_input():\n",
        "    usage = input(\"사용 용도를 입력하세요 (게임용, 가정용, 디자인용, 연구용): \")\n",
        "    budget = float(input(\"예산을 입력하세요 (원 단위): \"))\n",
        "    preferred_brand = input(\"선호하는 브랜드가 있으면 입력하세요 (없으면 엔터): \").strip()\n",
        "    return usage, budget, preferred_brand"
      ],
      "metadata": {
        "id": "PXuxyA9FjAEi"
      },
      "execution_count": null,
      "outputs": []
    },
    {
      "cell_type": "code",
      "source": [
        "usage, budget, preferred_brand = get_user_input()\n",
        "recommended_parts = recommend_computer_parts(usage, budget, preferred_brand)\n",
        "\n",
        "print(\"\\n추천 부품 리스트:\")\n",
        "sum = 0\n",
        "for part in recommended_parts:\n",
        "    print(f\"부품명: {part['name']}, 카테고리: {part['category']}, 브랜드: {part['brand']}, 가격: {part['price']} 원\")\n",
        "    sum += part['price']\n",
        "print(\"총 가격 : \", sum)"
      ],
      "metadata": {
        "colab": {
          "base_uri": "https://localhost:8080/"
        },
        "id": "W6uPAtD66kiu",
        "outputId": "79bf6314-f631-4c63-b464-1353250ec2c8"
      },
      "execution_count": null,
      "outputs": [
        {
          "output_type": "stream",
          "name": "stdout",
          "text": [
            "사용 용도를 입력하세요 (게임용, 가정용, 디자인용, 연구용): 게임용\n",
            "예산을 입력하세요 (원 단위): 4000000\n",
            "선호하는 브랜드가 있으면 입력하세요 (없으면 엔터): \n",
            "\n",
            "추천 부품 리스트:\n",
            "부품명: AMD Ryzen 5 4500, 카테고리: CPU, 브랜드: AMD, 가격: 101267 원\n",
            "부품명: KAER AMD Radeon RX 580, 카테고리: GPU, 브랜드: KAER, 가격: 131989 원\n",
            "부품명: Crucial RAM 8GB DDR4, 카테고리: RAM, 브랜드: CRUCIAL, 가격: 25597 원\n",
            "부품명: Cooler Master MasterBox Q300L MicroATX Tower, 카테고리: PC CASE, 브랜드: COOLER MASTER, 가격: 53349 원\n",
            "부품명: ASUS Prime B450MA II AMD AM4 Ryzen 5000 3rd2nd1st Gen Ryzen Micro ATX Motherboard, 카테고리: MOTHERBOARD, 브랜드: ASUS, 가격: 80280 원\n",
            "부품명: RTX 3080 12GB, 카테고리: GRAPHIC CARD, 브랜드: NVIDIA, 가격: 639000 원\n",
            "총 가격 :  1031482\n"
          ]
        }
      ]
    }
  ]
}