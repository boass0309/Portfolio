{
  "nbformat": 4,
  "nbformat_minor": 0,
  "metadata": {
    "colab": {
      "provenance": []
    },
    "kernelspec": {
      "name": "python3",
      "display_name": "Python 3"
    },
    "language_info": {
      "name": "python"
    }
  },
  "cells": [
    {
      "cell_type": "code",
      "execution_count": null,
      "metadata": {
        "colab": {
          "base_uri": "https://localhost:8080/"
        },
        "id": "_4p-OAlLH5X6",
        "outputId": "32066c23-c2ae-4629-cfc0-9ce7021d6ce5"
      },
      "outputs": [
        {
          "output_type": "stream",
          "name": "stdout",
          "text": [
            "Drive already mounted at /content/drive; to attempt to forcibly remount, call drive.mount(\"/content/drive\", force_remount=True).\n"
          ]
        }
      ],
      "source": [
        "from google.colab import drive\n",
        "drive.mount('/content/drive')"
      ]
    },
    {
      "cell_type": "code",
      "source": [
        "import pandas as pd\n",
        "from sklearn.metrics.pairwise import cosine_similarity\n",
        "import numpy as np\n",
        "# 예시 GPU 데이터\n",
        "data = {\n",
        "    'GPU Model': ['NVIDIA RTX 3080', 'AMD RX 6800 XT', 'NVIDIA GTX 1660', 'AMD RX 570'],\n",
        "    'Cores': [8704, 4608, 1408, 2048],\n",
        "    'VRAM': [10, 16, 6, 4],\n",
        "    'Memory Speed': [19, 16, 8, 7],\n",
        "    'TDP': [320, 300, 120, 150],\n",
        "    'Price': [699, 649, 219, 179],\n",
        "    'Manufacturer': ['NVIDIA', 'AMD', 'NVIDIA', 'AMD'],\n",
        "    'Core Clock': [1.44, 1.82, 1.53, 1.168],\n",
        "    'Boost Clock': [1.71, 2.25, 1.785, 1.244],\n",
        "    'Ray Tracing': [1, 1, 0, 0]\n",
        "}\n",
        "\n",
        "gpu_data = pd.DataFrame(data)\n",
        "gpu_data.to_csv('gpu_data.csv', index=False)"
      ],
      "metadata": {
        "id": "oNgv5lKkoubu"
      },
      "execution_count": null,
      "outputs": []
    },
    {
      "cell_type": "code",
      "source": [
        "user_purpose = '게임용'\n",
        "user_budget = 700\n",
        "\n",
        "# 용도별 사전 정의된 프로필\n",
        "profiles = {\n",
        "    '게임용': {\n",
        "        'Cores': 8000,\n",
        "        'VRAM': 8,\n",
        "        'Memory Speed': 14,\n",
        "        'TDP': 300,\n",
        "        'Price': user_budget,\n",
        "        'Core Clock': 1.5,\n",
        "        'Boost Clock': 1.8,\n",
        "        'Ray Tracing': 1  # 1: Yes, 0: No\n",
        "    },\n",
        "    '사무용': {\n",
        "        'Cores': 1500,\n",
        "        'VRAM': 4,\n",
        "        'Memory Speed': 10,\n",
        "        'TDP': 75,\n",
        "        'Price': user_budget,\n",
        "        'Core Clock': 1.2,\n",
        "        'Boost Clock': 1.4,\n",
        "        'Ray Tracing': 0\n",
        "    },\n",
        "    '영상편집': {\n",
        "        'Cores': 4000,\n",
        "        'VRAM': 12,\n",
        "        'Memory Speed': 16,\n",
        "        'TDP': 250,\n",
        "        'Price': user_budget,\n",
        "        'Core Clock': 1.6,\n",
        "        'Boost Clock': 2.0,\n",
        "        'Ray Tracing': 1\n",
        "    }\n",
        "}\n",
        "\n",
        "# 입력된 용도에 따라 프로필 선택\n",
        "user_profile = profiles.get(user_purpose, profiles['사무용'])  # 기본값은 '사무용'\n",
        "\n",
        "# 3. 유사도 계산\n",
        "def compute_similarity(gpu_data, user_profile):\n",
        "    features = ['Cores', 'VRAM', 'Memory Speed', 'TDP', 'Price', 'Core Clock', 'Boost Clock', 'Ray Tracing']\n",
        "    user_vector = np.array([user_profile[feature] for feature in features]).reshape(1, -1)\n",
        "    gpu_vectors = gpu_data[features].values\n",
        "    similarities = cosine_similarity(user_vector, gpu_vectors)\n",
        "    gpu_data['Similarity'] = similarities[0]\n",
        "    return gpu_data\n",
        "\n",
        "gpu_data = compute_similarity(gpu_data, user_profile)\n",
        "\n",
        "# 4. 추천 생성\n",
        "recommendations = gpu_data[gpu_data['Price'] <= user_profile['Price']].sort_values(by='Similarity', ascending=False)\n",
        "\n",
        "print(\"추천 GPU 리스트:\")\n",
        "print(recommendations[['GPU Model', 'Similarity']].head())"
      ],
      "metadata": {
        "colab": {
          "base_uri": "https://localhost:8080/"
        },
        "id": "AimVr_hDCtIZ",
        "outputId": "e9ad0a3e-f345-4a57-b95f-d2b5cc1c33ea"
      },
      "execution_count": null,
      "outputs": [
        {
          "output_type": "stream",
          "name": "stdout",
          "text": [
            "추천 GPU 리스트:\n",
            "         GPU Model  Similarity\n",
            "0  NVIDIA RTX 3080    0.999974\n",
            "3       AMD RX 570    0.999368\n",
            "1   AMD RX 6800 XT    0.998249\n",
            "2  NVIDIA GTX 1660    0.996662\n"
          ]
        }
      ]
    },
    {
      "cell_type": "code",
      "source": [
        "# 예시 GPU 데이터\n",
        "data = {\n",
        "    'GPU Model': ['NVIDIA RTX 3080', 'AMD RX 6800 XT', 'NVIDIA GTX 1660', 'AMD RX 570'],\n",
        "    'Cores': [8704, 4608, 1408, 2048],\n",
        "    'VRAM': [10, 16, 6, 4],\n",
        "    'Memory Speed': [19, 16, 8, 7],\n",
        "    'TDP': [320, 300, 120, 150],\n",
        "    'Price': [699, 649, 219, 179],\n",
        "    'Manufacturer': ['NVIDIA', 'AMD', 'NVIDIA', 'AMD'],\n",
        "    'Core Clock': [1.44, 1.82, 1.53, 1.168],\n",
        "    'Boost Clock': [1.71, 2.25, 1.785, 1.244],\n",
        "    'Ray Tracing': [1, 1, 0, 0]\n",
        "}\n",
        "\n",
        "gpu_data = pd.DataFrame(data)\n",
        "gpu_data.to_csv('gpu_data.csv', index=False)\n",
        "\n",
        "user_purpose = '게임용'\n",
        "user_budget = 700\n",
        "\n",
        "# 용도별 사전 정의된 프로필\n",
        "profiles = {\n",
        "    '게임용': {\n",
        "        'Cores': 8000,\n",
        "        'VRAM': 8,\n",
        "        'Memory Speed': 14,\n",
        "        'TDP': 300,\n",
        "        'Price': user_budget,\n",
        "        'Core Clock': 1.5,\n",
        "        'Boost Clock': 1.8,\n",
        "        'Ray Tracing': 1  # 1: Yes, 0: No\n",
        "    },\n",
        "    '사무용': {\n",
        "        'Cores': 1500,\n",
        "        'VRAM': 4,\n",
        "        'Memory Speed': 10,\n",
        "        'TDP': 75,\n",
        "        'Price': user_budget,\n",
        "        'Core Clock': 1.2,\n",
        "        'Boost Clock': 1.4,\n",
        "        'Ray Tracing': 0\n",
        "    },\n",
        "    '영상편집': {\n",
        "        'Cores': 4000,\n",
        "        'VRAM': 12,\n",
        "        'Memory Speed': 16,\n",
        "        'TDP': 250,\n",
        "        'Price': user_budget,\n",
        "        'Core Clock': 1.6,\n",
        "        'Boost Clock': 2.0,\n",
        "        'Ray Tracing': 1\n",
        "    }\n",
        "}\n",
        "\n",
        "# 입력된 용도에 따라 프로필 선택\n",
        "user_profile = profiles.get(user_purpose, profiles['사무용'])  # 기본값은 '사무용'\n",
        "\n",
        "# 3. 유사도 계산\n",
        "def compute_similarity(gpu_data, user_profile):\n",
        "    features = ['Cores', 'VRAM', 'Memory Speed', 'TDP', 'Price', 'Core Clock', 'Boost Clock', 'Ray Tracing']\n",
        "    user_vector = np.array([user_profile[feature] for feature in features]).reshape(1, -1)\n",
        "    gpu_vectors = gpu_data[features].values\n",
        "    similarities = cosine_similarity(user_vector, gpu_vectors)\n",
        "    gpu_data['Similarity'] = similarities[0]\n",
        "    return gpu_data\n",
        "\n",
        "gpu_data = compute_similarity(gpu_data, user_profile)\n",
        "\n",
        "# 4. 추천 생성\n",
        "recommendations = gpu_data[gpu_data['Price'] <= user_profile['Price']].sort_values(by='Similarity', ascending=False)\n",
        "\n",
        "print(\"추천 GPU 리스트:\")\n",
        "print(recommendations[['GPU Model', 'Similarity']].head())"
      ],
      "metadata": {
        "colab": {
          "base_uri": "https://localhost:8080/"
        },
        "id": "Xl5UDej1KUbX",
        "outputId": "0f10dd4d-51cd-46e0-beb9-4897f79e7c72"
      },
      "execution_count": null,
      "outputs": [
        {
          "output_type": "stream",
          "name": "stdout",
          "text": [
            "추천 GPU 리스트:\n",
            "         GPU Model  Similarity\n",
            "0  NVIDIA RTX 3080    0.999974\n",
            "3       AMD RX 570    0.999368\n",
            "1   AMD RX 6800 XT    0.998249\n",
            "2  NVIDIA GTX 1660    0.996662\n"
          ]
        }
      ]
    },
    {
      "cell_type": "code",
      "source": [
        "import pandas as pd\n",
        "from sklearn.metrics.pairwise import cosine_similarity\n",
        "import numpy as np\n",
        "\n",
        "# 예시: 사용자로부터 용량, DDR 유형, 예산 입력받기\n",
        "user_capacity = int(input(\"RAM 용량을 입력하세요 (GB 단위): \"))\n",
        "user_ddr = int(input(\"DDR 유형을 입력하세요 (예: 3, 4, 5): \"))\n",
        "user_budget = int(input(\"예산을 입력하세요 (달러 단위): \"))\n",
        "\n",
        "# 사용자 프로필 생성\n",
        "user_profile = {\n",
        "    'Capacity': user_capacity,\n",
        "    'DDR': user_ddr,\n",
        "    'Price': user_budget\n",
        "}\n",
        "\n",
        "# 예시 RAM 데이터\n",
        "data = {\n",
        "    'RAM Model': ['Corsair Vengeance LPX 16GB', 'G.SKILL Ripjaws V 32GB', 'Kingston HyperX Fury 8GB', 'Crucial Ballistix 16GB'],\n",
        "    'Capacity': [16, 32, 8, 16],\n",
        "    'DDR': [4, 4, 3, 3],\n",
        "    'Price': [80, 160, 40, 70],\n",
        "    'Manufacturer': ['Corsair', 'G.SKILL', 'Kingston', 'Crucial']\n",
        "}\n",
        "\n",
        "ram_data = pd.DataFrame(data)\n",
        "ram_data.to_csv('ram_data.csv', index=False)\n",
        "\n",
        "# 3. 유사도 계산\n",
        "def compute_similarity(ram_data, user_profile):\n",
        "    features = ['Capacity', 'DDR', 'Price']\n",
        "    user_vector = np.array([user_profile[feature] for feature in features]).reshape(1, -1)\n",
        "    ram_vectors = ram_data[features].values\n",
        "    similarities = cosine_similarity(user_vector, ram_vectors)\n",
        "    ram_data['Similarity'] = similarities[0]\n",
        "    return ram_data\n",
        "\n",
        "ram_data = compute_similarity(ram_data, user_profile)\n",
        "\n",
        "# 4. 추천 생성\n",
        "recommendations = ram_data[ram_data['Price'] <= user_profile['Price']].sort_values(by='Similarity', ascending=False)\n",
        "\n",
        "print(\"추천 RAM 리스트:\")\n",
        "print(recommendations[['RAM Model', 'Similarity']].head())\n"
      ],
      "metadata": {
        "colab": {
          "base_uri": "https://localhost:8080/"
        },
        "id": "g4TNdT95MUp5",
        "outputId": "fac3f2b5-35a9-48cf-b2ba-308f72bcfb8a"
      },
      "execution_count": null,
      "outputs": [
        {
          "output_type": "stream",
          "name": "stdout",
          "text": [
            "RAM 용량을 입력하세요 (GB 단위): 16\n",
            "DDR 유형을 입력하세요 (예: 3, 4, 5): 3\n",
            "예산을 입력하세요 (달러 단위): 200\n",
            "추천 RAM 리스트:\n",
            "                    RAM Model  Similarity\n",
            "1      G.SKILL Ripjaws V 32GB    0.993054\n",
            "0  Corsair Vengeance LPX 16GB    0.992527\n",
            "2    Kingston HyperX Fury 8GB    0.991408\n",
            "3      Crucial Ballistix 16GB    0.989174\n"
          ]
        }
      ]
    },
    {
      "cell_type": "code",
      "source": [
        "import pandas as pd\n",
        "from sklearn.metrics.pairwise import cosine_similarity\n",
        "import numpy as np\n",
        "\n",
        "# 예시: 사용자로부터 CPU 세대, M.2 지원 여부, DDR 유형 입력받기\n",
        "user_cpu_generation = int(input(\"CPU 세대를 입력하세요: \"))\n",
        "user_m2_support = int(input(\"M.2 지원 여부를 입력하세요 (지원: 1, 미지원: 0): \"))\n",
        "user_ddr = int(input(\"DDR 유형을 입력하세요 (예: 3, 4, 5): \"))\n",
        "\n",
        "# 사용자 프로필 생성\n",
        "user_profile = {\n",
        "    'CPU Generation': user_cpu_generation,\n",
        "    'M.2 Support': user_m2_support,\n",
        "    'DDR': user_ddr\n",
        "}\n",
        "\n",
        "# 예시 메인보드 데이터\n",
        "data = {\n",
        "    'Mainboard Model': ['ASUS ROG Strix Z490-E', 'MSI MPG Z390 Gaming Pro', 'Gigabyte B450 AORUS M', 'ASRock B460M Pro4'],\n",
        "    'CPU Generation': [10, 9, 3, 10],\n",
        "    'M.2 Support': [1, 1, 1, 0],\n",
        "    'DDR': [4, 4, 4, 4],\n",
        "    'Price': [250, 180, 100, 90],\n",
        "    'Manufacturer': ['ASUS', 'MSI', 'Gigabyte', 'ASRock']\n",
        "}\n",
        "\n",
        "mainboard_data = pd.DataFrame(data)\n",
        "mainboard_data.to_csv('mainboard_data.csv', index=False)\n",
        "\n",
        "# 3. 유사도 계산\n",
        "def compute_similarity(mainboard_data, user_profile):\n",
        "    features = ['CPU Generation', 'M.2 Support', 'DDR']\n",
        "    user_vector = np.array([user_profile[feature] for feature in features]).reshape(1, -1)\n",
        "    mainboard_vectors = mainboard_data[features].values\n",
        "    similarities = cosine_similarity(user_vector, mainboard_vectors)\n",
        "    mainboard_data['Similarity'] = similarities[0]\n",
        "    return mainboard_data\n",
        "\n",
        "mainboard_data = compute_similarity(mainboard_data, user_profile)\n",
        "\n",
        "# 4. 추천 생성\n",
        "recommendations = mainboard_data.sort_values(by='Similarity', ascending=False)\n",
        "\n",
        "print(\"추천 메인보드 리스트:\")\n",
        "print(recommendations[['Mainboard Model', 'Similarity']].head())"
      ],
      "metadata": {
        "colab": {
          "base_uri": "https://localhost:8080/"
        },
        "id": "O5YZtXJaNwyp",
        "outputId": "311dd362-7685-45de-8148-252e7da70aa6"
      },
      "execution_count": null,
      "outputs": [
        {
          "output_type": "stream",
          "name": "stdout",
          "text": [
            "CPU 세대를 입력하세요: 10\n",
            "M.2 지원 여부를 입력하세요 (지원: 1, 미지원: 0): 1\n",
            "DDR 유형을 입력하세요 (예: 3, 4, 5): 3\n",
            "추천 메인보드 리스트:\n",
            "           Mainboard Model  Similarity\n",
            "0    ASUS ROG Strix Z490-E    0.996068\n",
            "1  MSI MPG Z390 Gaming Pro    0.992037\n",
            "3        ASRock B460M Pro4    0.991500\n",
            "2    Gigabyte B450 AORUS M    0.804054\n"
          ]
        }
      ]
    },
    {
      "cell_type": "code",
      "source": [
        "import pandas as pd\n",
        "from sklearn.preprocessing import StandardScaler\n",
        "from sklearn.metrics.pairwise import cosine_similarity\n",
        "import numpy as np\n",
        "\n",
        "# 예시 데이터\n",
        "data = {\n",
        "    'Case Model': ['NZXT H510', 'Cooler Master Q300L', 'Fractal Design Meshify C', 'Corsair 275R Airflow'],\n",
        "    'Price': [100, 50, 90, 80],\n",
        "    'CPU Form Factor': ['ATX', 'Micro-ATX', 'ATX', 'ATX']\n",
        "}\n",
        "\n",
        "case_data = pd.DataFrame(data)\n",
        "\n",
        "# 예시: 사용자로부터 가격 및 CPU 폼팩터 입력받기\n",
        "user_price = float(input(\"가격을 입력하세요: \"))\n",
        "user_cpu_form_factor = input(\"CPU 폼팩터를 입력하세요 (예: ATX, Micro-ATX): \")\n",
        "\n",
        "# 사용자 프로필 생성\n",
        "user_profile = {\n",
        "    'Price': user_price,\n",
        "    'CPU Form Factor': user_cpu_form_factor\n",
        "}\n",
        "\n",
        "# 1. 가격 표준화\n",
        "scaler = StandardScaler()\n",
        "case_data['Normalized Price'] = scaler.fit_transform(case_data[['Price']])\n",
        "\n",
        "# 2. CPU 폼팩터 원핫 인코딩\n",
        "case_data = pd.get_dummies(case_data, columns=['CPU Form Factor'])\n",
        "\n",
        "# 3. 사용자 프로필 데이터 변환\n",
        "user_profile['Normalized Price'] = scaler.transform([[user_profile['Price']]])[0][0]\n",
        "user_profile_vector = [user_profile['Normalized Price']] + [0] * (len(case_data.columns) - 3)\n",
        "\n",
        "if 'CPU Form Factor_' + user_profile['CPU Form Factor'] in case_data.columns:\n",
        "    index = case_data.columns.get_loc('CPU Form Factor_' + user_profile['CPU Form Factor'])\n",
        "    user_profile_vector[index - 1] = 1  # Adjusted index for user vector\n",
        "\n",
        "user_vector = np.array(user_profile_vector).reshape(1, -1)\n",
        "case_vectors = case_data.drop(columns=['Case Model', 'Price']).values\n",
        "\n",
        "# 4. 유사도 계산\n",
        "similarities = cosine_similarity(user_vector, case_vectors)\n",
        "case_data['Similarity'] = similarities[0]\n",
        "\n",
        "# 5. 추천 생성\n",
        "recommendations = case_data.sort_values(by='Similarity', ascending=False)\n",
        "\n",
        "print(\"추천 케이스 리스트:\")\n",
        "print(recommendations[['Case Model', 'Similarity']])"
      ],
      "metadata": {
        "colab": {
          "base_uri": "https://localhost:8080/"
        },
        "id": "QK_FQmWTT5o9",
        "outputId": "c00c785c-52d4-48cd-c7f3-6fd2f4da91cf"
      },
      "execution_count": null,
      "outputs": [
        {
          "output_type": "stream",
          "name": "stdout",
          "text": [
            "가격을 입력하세요: 100\n",
            "CPU 폼팩터를 입력하세요 (예: ATX, Micro-ATX): ATX\n",
            "추천 케이스 리스트:\n",
            "                 Case Model  Similarity\n",
            "0                 NZXT H510    0.533333\n",
            "2  Fractal Design Meshify C    0.344265\n",
            "3      Corsair 275R Airflow    0.000000\n",
            "1       Cooler Master Q300L   -0.258199\n"
          ]
        },
        {
          "output_type": "stream",
          "name": "stderr",
          "text": [
            "/usr/local/lib/python3.10/dist-packages/sklearn/base.py:465: UserWarning: X does not have valid feature names, but StandardScaler was fitted with feature names\n",
            "  warnings.warn(\n"
          ]
        }
      ]
    },
    {
      "cell_type": "code",
      "source": [
        "import pandas as pd\n",
        "from sklearn.preprocessing import StandardScaler\n",
        "from sklearn.metrics.pairwise import cosine_similarity\n",
        "import numpy as np\n",
        "\n",
        "# 예시 데이터\n",
        "data = {\n",
        "    'Power Supply Model': ['Corsair RM750x', 'EVGA SuperNOVA 750 G5', 'Seasonic FOCUS GX-650', 'Cooler Master MWE Gold 650 V2'],\n",
        "    'Price': [120, 110, 90, 80],\n",
        "    'ATX Support': ['Yes', 'Yes', 'Yes', 'No'],\n",
        "    'CPU Type': ['External', 'External', 'External', 'Internal']\n",
        "}\n",
        "\n",
        "psu_data = pd.DataFrame(data)\n",
        "\n",
        "# 사용자 입력\n",
        "user_price = 100\n",
        "user_atx_support = 'Yes'\n",
        "user_cpu_type = 'External'\n",
        "\n",
        "# 사용자 프로필 생성\n",
        "user_profile = {\n",
        "    'Price': user_price,\n",
        "    'ATX Support': user_atx_support,\n",
        "    'CPU Type': user_cpu_type\n",
        "}\n",
        "\n",
        "# 1. 가격 표준화\n",
        "scaler = StandardScaler()\n",
        "psu_data['Normalized Price'] = scaler.fit_transform(psu_data[['Price']])\n",
        "\n",
        "# 2. ATX 지원 여부 및 CPU 타입 원핫 인코딩\n",
        "psu_data = pd.get_dummies(psu_data, columns=['ATX Support', 'CPU Type'])\n",
        "\n",
        "# 3. 사용자 프로필 데이터 변환\n",
        "user_profile['Normalized Price'] = scaler.transform([[user_profile['Price']]])[0][0]\n",
        "\n",
        "# 유저 프로필 벡터 크기 설정 (열 이름에 따라)\n",
        "user_profile_vector = [user_profile['Normalized Price']]\n",
        "\n",
        "# 원핫 인코딩된 열에 맞추어 사용자 프로필 벡터 업데이트\n",
        "for column in psu_data.columns[2:]:  # 'Power Supply Model'과 'Price'를 제외한 모든 열\n",
        "    if column == 'Normalized Price':\n",
        "        continue\n",
        "    if column == 'ATX Support_' + user_profile['ATX Support'] or column == 'CPU Type_' + user_profile['CPU Type']:\n",
        "        user_profile_vector.append(1)\n",
        "    else:\n",
        "        user_profile_vector.append(0)\n",
        "\n",
        "user_vector = np.array(user_profile_vector).reshape(1, -1)\n",
        "psu_vectors = psu_data.drop(columns=['Power Supply Model', 'Price']).values\n",
        "\n",
        "# 4. 유사도 계산\n",
        "similarities = cosine_similarity(user_vector, psu_vectors)\n",
        "psu_data['Similarity'] = similarities[0]\n",
        "\n",
        "# 5. 추천 생성\n",
        "recommendations = psu_data.sort_values(by='Similarity', ascending=False)\n",
        "\n",
        "print(\"추천 파워 서플라이 리스트:\")\n",
        "print(recommendations[['Power Supply Model', 'Similarity']])\n"
      ],
      "metadata": {
        "colab": {
          "base_uri": "https://localhost:8080/"
        },
        "id": "zNHEo2kkYeJE",
        "outputId": "1ead571c-5e63-48d9-cd47-ed76fdc1d49d"
      },
      "execution_count": null,
      "outputs": [
        {
          "output_type": "stream",
          "name": "stdout",
          "text": [
            "추천 파워 서플라이 리스트:\n",
            "              Power Supply Model  Similarity\n",
            "1          EVGA SuperNOVA 750 G5    0.912871\n",
            "2          Seasonic FOCUS GX-650    0.912871\n",
            "0                 Corsair RM750x    0.745356\n",
            "3  Cooler Master MWE Gold 650 V2    0.000000\n"
          ]
        },
        {
          "output_type": "stream",
          "name": "stderr",
          "text": [
            "/usr/local/lib/python3.10/dist-packages/sklearn/base.py:465: UserWarning: X does not have valid feature names, but StandardScaler was fitted with feature names\n",
            "  warnings.warn(\n"
          ]
        }
      ]
    },
    {
      "cell_type": "code",
      "source": [
        "import pandas as pd\n",
        "from sklearn.preprocessing import StandardScaler\n",
        "from sklearn.metrics.pairwise import cosine_similarity\n",
        "import numpy as np\n",
        "\n",
        "# 예시 SSD 데이터\n",
        "ssd_data = {\n",
        "    'SSD Model': ['Samsung 970 EVO', 'Western Digital WD Black', 'Crucial MX500', 'Samsung 860 EVO'],\n",
        "    'Capacity (GB)': [500, 1000, 500, 1000],\n",
        "    'M.2': ['Yes', 'Yes', 'No', 'No'],\n",
        "    'Price': [150, 200, 100, 120]\n",
        "}\n",
        "\n",
        "ssd_df = pd.DataFrame(ssd_data)\n",
        "\n",
        "# 사용자 입력\n",
        "user_capacity = 500  # GB\n",
        "user_m2 = 'Yes'\n",
        "\n",
        "# 사용자 프로필 생성\n",
        "user_profile = {\n",
        "    'Capacity (GB)': user_capacity,\n",
        "    'M.2': user_m2\n",
        "}\n",
        "\n",
        "# 1. 가격 표준화\n",
        "scaler = StandardScaler()\n",
        "ssd_df['Normalized Price'] = scaler.fit_transform(ssd_df[['Price']])\n",
        "\n",
        "# 2. M.2 지원 여부 원핫 인코딩\n",
        "ssd_df = pd.get_dummies(ssd_df, columns=['M.2'])\n",
        "\n",
        "# 3. 사용자 프로필 데이터 변환\n",
        "user_profile['Normalized Price'] = scaler.transform([[user_profile['Capacity (GB)']]])[0][0]\n",
        "\n",
        "# 4. 사용자 프로필 벡터 생성\n",
        "user_profile_vector = [user_profile['Capacity (GB)'], user_profile['Normalized Price']]\n",
        "\n",
        "# 원핫 인코딩된 열에 맞추어 사용자 프로필 벡터 업데이트\n",
        "m2_columns = [col for col in ssd_df.columns if col.startswith('M.2')]\n",
        "for column in m2_columns:\n",
        "    if column == 'M.2_' + user_profile['M.2']:\n",
        "        user_profile_vector.append(1)\n",
        "    else:\n",
        "        user_profile_vector.append(0)\n",
        "\n",
        "user_vector = np.array(user_profile_vector).reshape(1, -1)\n",
        "\n",
        "# 5. SSD 벡터 생성\n",
        "ssd_vectors = ssd_df.drop(columns=['SSD Model', 'Price']).values\n",
        "\n",
        "# 6. 유사도 계산\n",
        "similarities = cosine_similarity(user_vector, ssd_vectors)\n",
        "ssd_df['Similarity'] = similarities[0]\n",
        "\n",
        "# 7. 추천 생성\n",
        "recommendations = ssd_df.sort_values(by='Similarity', ascending=False)\n",
        "\n",
        "print(\"추천 SSD 리스트:\")\n",
        "print(recommendations[['SSD Model', 'Similarity']])\n"
      ],
      "metadata": {
        "colab": {
          "base_uri": "https://localhost:8080/"
        },
        "id": "SvJPpg_3b-o2",
        "outputId": "94f0f677-c662-4810-8e2d-b4ac439c5890"
      },
      "execution_count": null,
      "outputs": [
        {
          "output_type": "stream",
          "name": "stdout",
          "text": [
            "추천 SSD 리스트:\n",
            "                  SSD Model  Similarity\n",
            "1  Western Digital WD Black    0.999847\n",
            "0           Samsung 970 EVO    0.999827\n",
            "3           Samsung 860 EVO    0.999806\n",
            "2             Crucial MX500    0.999771\n"
          ]
        },
        {
          "output_type": "stream",
          "name": "stderr",
          "text": [
            "/usr/local/lib/python3.10/dist-packages/sklearn/base.py:465: UserWarning: X does not have valid feature names, but StandardScaler was fitted with feature names\n",
            "  warnings.warn(\n"
          ]
        }
      ]
    }
  ]
}